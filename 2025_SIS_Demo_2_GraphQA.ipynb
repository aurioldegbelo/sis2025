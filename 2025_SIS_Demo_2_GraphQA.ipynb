{
  "nbformat": 4,
  "nbformat_minor": 0,
  "metadata": {
    "colab": {
      "provenance": [],
      "collapsed_sections": [
        "Nv0FvC7kT3KR",
        "J-MZn6LV9qtB",
        "BV4UuEw5kxaV"
      ],
      "authorship_tag": "ABX9TyMMapjom5EGs94Pyea2CXff",
      "include_colab_link": true
    },
    "kernelspec": {
      "name": "python3",
      "display_name": "Python 3"
    },
    "language_info": {
      "name": "python"
    }
  },
  "cells": [
    {
      "cell_type": "markdown",
      "metadata": {
        "id": "view-in-github",
        "colab_type": "text"
      },
      "source": [
        "<a href=\"https://colab.research.google.com/github/aurioldegbelo/sis2025/blob/main/2025_SIS_Demo_2_GraphQA.ipynb\" target=\"_parent\"><img src=\"https://colab.research.google.com/assets/colab-badge.svg\" alt=\"Open In Colab\"/></a>"
      ]
    },
    {
      "cell_type": "markdown",
      "source": [
        "Topics: Data Modelling and Search Models\n",
        "* Langsmith (for inspection and debugging)\n",
        "* Semantic model extraction (continued)\n",
        "* Graph QA using GraphCypherQAChain\n",
        "* Graph QA using Vector Indices"
      ],
      "metadata": {
        "id": "43I3IWmdbtN4"
      }
    },
    {
      "cell_type": "markdown",
      "source": [
        "# Part 1:  Langsmith"
      ],
      "metadata": {
        "id": "KsUHp7-VRbf8"
      }
    },
    {
      "cell_type": "markdown",
      "source": [
        "[Documentation](https://docs.smith.langchain.com/)"
      ],
      "metadata": {
        "id": "Pbug8ocywoO7"
      }
    },
    {
      "cell_type": "markdown",
      "source": [
        "[Website](https://www.langchain.com/langsmith)"
      ],
      "metadata": {
        "id": "hWn48jeBOlOA"
      }
    },
    {
      "cell_type": "code",
      "source": [
        "!pip install -qU langsmith"
      ],
      "metadata": {
        "id": "YaMwdPwo6hVb"
      },
      "execution_count": 43,
      "outputs": []
    },
    {
      "cell_type": "code",
      "source": [
        "import os\n",
        "\n",
        "os.environ[\"LANGSMITH_TRACING\"] = \"true\"\n",
        "os.environ[\"LANGSMITH_ENDPOINT\"] = \"https://api.smith.langchain.com/\"\n",
        "os.environ[\"LANGSMITH_API_KEY\"] = \"yourAPIkey\""
      ],
      "metadata": {
        "id": "HA5Nm88y6ovr"
      },
      "execution_count": 44,
      "outputs": []
    },
    {
      "cell_type": "code",
      "source": [
        "import os\n",
        "import getpass\n",
        "\n",
        "if \"OPENAI_API_KEY\" not in os.environ:\n",
        "    os.environ[\"OPENAI_API_KEY\"] = getpass.getpass(\"Enter your OpenAI API key: \")"
      ],
      "metadata": {
        "id": "pTM4jeoO7J7E"
      },
      "execution_count": 45,
      "outputs": []
    },
    {
      "cell_type": "code",
      "source": [
        "!pip install -qU langchain-openai"
      ],
      "metadata": {
        "id": "PgGWbFpq7fGw",
        "colab": {
          "base_uri": "https://localhost:8080/"
        },
        "outputId": "34de6c1d-a4a8-4c68-c03d-f5a4ba3ceb33"
      },
      "execution_count": 47,
      "outputs": [
        {
          "output_type": "stream",
          "name": "stdout",
          "text": [
            "\u001b[31mERROR: pip's dependency resolver does not currently take into account all the packages that are installed. This behaviour is the source of the following dependency conflicts.\n",
            "langchain-neo4j 0.5.0 requires langchain-core<0.4.0,>=0.3.39, but you have langchain-core 1.0.0 which is incompatible.\n",
            "langchain 0.3.27 requires langchain-core<1.0.0,>=0.3.72, but you have langchain-core 1.0.0 which is incompatible.\u001b[0m\u001b[31m\n",
            "\u001b[0m"
          ]
        }
      ]
    },
    {
      "cell_type": "code",
      "source": [
        "from langchain_openai import ChatOpenAI\n",
        "from langchain_core.prompts import ChatPromptTemplate\n",
        "from langchain_core.output_parsers import StrOutputParser\n",
        "\n",
        "prompt = ChatPromptTemplate.from_messages([\n",
        "    (\"system\", \"You are a helpful assistant. Please respond to the user's request only based on the given context.\"),\n",
        "    (\"user\", \"Question: {question}\\nContext: {context}\")\n",
        "])\n",
        "model = ChatOpenAI(model=\"gpt-3.5-turbo\")\n",
        "output_parser = StrOutputParser() # https://www.restack.io/docs/langchain-knowledge-langchain-stroutputparser-guide\n",
        "\n",
        "chain = prompt | model | output_parser\n",
        "\n",
        "question = \"What are the place names and geopolitical entities mentioned in the context?\"\n",
        "context = \"Germany is a country in Europe and its capital is Berlin.\"\n",
        "chain.invoke({\"question\": question, \"context\": context})"
      ],
      "metadata": {
        "colab": {
          "base_uri": "https://localhost:8080/",
          "height": 36
        },
        "id": "vrjyoGMWSxFI",
        "outputId": "ff5428fe-f28a-4f3d-bd04-f2c9d63da1b5"
      },
      "execution_count": 49,
      "outputs": [
        {
          "output_type": "execute_result",
          "data": {
            "text/plain": [
              "'Place names: Germany, Europe, Berlin\\nGeopolitical entities: Germany'"
            ],
            "application/vnd.google.colaboratory.intrinsic+json": {
              "type": "string"
            }
          },
          "metadata": {},
          "execution_count": 49
        }
      ]
    },
    {
      "cell_type": "markdown",
      "source": [
        "# Part 2: Semantic Model Extraction"
      ],
      "metadata": {
        "id": "Nv0FvC7kT3KR"
      }
    },
    {
      "cell_type": "code",
      "source": [
        "!pip install -q langchain langchain-neo4j langchain-openai neo4j"
      ],
      "metadata": {
        "id": "z2yaxk974TjZ"
      },
      "execution_count": 50,
      "outputs": []
    },
    {
      "cell_type": "code",
      "source": [
        "from langchain_neo4j import Neo4jGraph\n",
        "\n",
        "url = \"yourUrl\"\n",
        "username = \"neo4j\"\n",
        "password = \"yourPassword\"\n",
        "\n",
        "graph = Neo4jGraph(\n",
        "    url=url,\n",
        "    username=username,\n",
        "    password=password\n",
        ")"
      ],
      "metadata": {
        "id": "DwOmWv9h4ZAN"
      },
      "execution_count": 51,
      "outputs": []
    },
    {
      "cell_type": "code",
      "source": [
        "import getpass\n",
        "import os\n",
        "\n",
        "if \"OPENAI_API_KEY\" not in os.environ:\n",
        "    os.environ[\"OPENAI_API_KEY\"] = getpass.getpass(\"Enter your OpenAI API key: \")"
      ],
      "metadata": {
        "id": "Kc7B0jrCvAZO"
      },
      "execution_count": 52,
      "outputs": []
    },
    {
      "cell_type": "code",
      "source": [
        "# From wikipedia: https://en.wikipedia.org/wiki/M%C3%BCnster\n",
        "example_text = \"\"\"\n",
        "Münster is an independent city (Kreisfreie Stadt)\n",
        "in North Rhine-Westphalia, Germany. It is in the northern part of the state and is considered to\n",
        "be the cultural centre of the Westphalia region. It is also a state district capital. Münster was the\n",
        "location of the Anabaptist rebellion during the Protestant Reformation and the site of the signing of the\n",
        "Treaty of Westphalia ending the Thirty Years' War in 1648. Today, it is known as the bicycle capital of Germany.\n",
        " Münster gained the status of a Großstadt (major city) with more than 100,000 inhabitants in 1915.[4]\n",
        " As of 2014, there are 300,000[5] people living in the city, with about 61,500 students,[6]\n",
        " only some of whom are recorded in the official population statistics as having their primary residence in Münster.\n",
        " Münster is a part of the international Euregio region with more than 1,000,000 inhabitants (Enschede, Hengelo, Gronau, Osnabrück).\n",
        " Companies offering jobs in Münster include the Institute for Geoinformatics at the University of Münster,\n",
        " the Münster University of Applied Sciences, Reedu GmbH, con terra, the Deutsche Bank, IKEA, LIDL, REWE, ALDI and BASF Coatings.\n",
        "\"\"\""
      ],
      "metadata": {
        "id": "HZePyU65vKrD"
      },
      "execution_count": 53,
      "outputs": []
    },
    {
      "cell_type": "code",
      "source": [
        "!pip install -qU langchain-experimental"
      ],
      "metadata": {
        "colab": {
          "base_uri": "https://localhost:8080/"
        },
        "id": "z8z0Ip_7ugR-",
        "outputId": "37d66c85-9a2d-42ff-91f2-b2fdc32bfe0c"
      },
      "execution_count": 54,
      "outputs": [
        {
          "output_type": "stream",
          "name": "stdout",
          "text": [
            "\u001b[?25l   \u001b[90m━━━━━━━━━━━━━━━━━━━━━━━━━━━━━━━━━━━━━━━━\u001b[0m \u001b[32m0.0/209.2 kB\u001b[0m \u001b[31m?\u001b[0m eta \u001b[36m-:--:--\u001b[0m\r\u001b[2K   \u001b[91m━━━━━━━━━━━━━━━━━━━\u001b[0m\u001b[91m╸\u001b[0m\u001b[90m━━━━━━━━━━━━━━━━━━━━\u001b[0m \u001b[32m102.4/209.2 kB\u001b[0m \u001b[31m4.0 MB/s\u001b[0m eta \u001b[36m0:00:01\u001b[0m\r\u001b[2K   \u001b[90m━━━━━━━━━━━━━━━━━━━━━━━━━━━━━━━━━━━━━━━━\u001b[0m \u001b[32m209.2/209.2 kB\u001b[0m \u001b[31m3.5 MB/s\u001b[0m eta \u001b[36m0:00:00\u001b[0m\n",
            "\u001b[?25h"
          ]
        }
      ]
    },
    {
      "cell_type": "code",
      "source": [
        "from langchain_experimental.graph_transformers import LLMGraphTransformer\n",
        "\n",
        "from langchain_openai import ChatOpenAI\n",
        "\n",
        "llm = ChatOpenAI(temperature=0, model_name=\"gpt-4o\") # https://platform.openai.com/docs/models gpt-4o\n",
        "\n",
        "llm_transformer = LLMGraphTransformer(llm=llm) # documentation, see https://python.langchain.com/docs/how_to/graph_constructing/"
      ],
      "metadata": {
        "id": "nO9j2tbdvPIc"
      },
      "execution_count": 55,
      "outputs": []
    },
    {
      "cell_type": "code",
      "source": [
        "from langchain_core.documents import Document\n",
        "\n",
        "documents = [Document(page_content=example_text)]\n",
        "graph_documents = llm_transformer.convert_to_graph_documents(documents)\n",
        "print(f\"Nodes:{graph_documents[0].nodes}\")\n",
        "print(f\"Relationships:{graph_documents[0].relationships}\")"
      ],
      "metadata": {
        "colab": {
          "base_uri": "https://localhost:8080/"
        },
        "id": "aYnlGBY8vTVD",
        "outputId": "8c313aef-6178-4a31-b27f-67b5b0366966"
      },
      "execution_count": 58,
      "outputs": [
        {
          "output_type": "stream",
          "name": "stdout",
          "text": [
            "Nodes:[Node(id='Münster', type='Place', properties={}), Node(id='North Rhine-Westphalia', type='Place', properties={}), Node(id='Germany', type='Place', properties={}), Node(id='Westphalia', type='Place', properties={}), Node(id='Anabaptist Rebellion', type='Event', properties={}), Node(id='Protestant Reformation', type='Event', properties={}), Node(id='Treaty Of Westphalia', type='Event', properties={}), Node(id=\"Thirty Years' War\", type='Event', properties={}), Node(id='Euregio', type='Place', properties={}), Node(id='Institute For Geoinformatics', type='Organization', properties={}), Node(id='University Of Münster', type='Organization', properties={}), Node(id='Münster University Of Applied Sciences', type='Organization', properties={}), Node(id='Reedu Gmbh', type='Organization', properties={}), Node(id='Con Terra', type='Organization', properties={}), Node(id='Deutsche Bank', type='Organization', properties={}), Node(id='Ikea', type='Organization', properties={}), Node(id='Lidl', type='Organization', properties={}), Node(id='Rewe', type='Organization', properties={}), Node(id='Aldi', type='Organization', properties={}), Node(id='Basf Coatings', type='Organization', properties={})]\n",
            "Relationships:[Relationship(source=Node(id='Münster', type='Place', properties={}), target=Node(id='North Rhine-Westphalia', type='Place', properties={}), type='LOCATED_IN', properties={}), Relationship(source=Node(id='Münster', type='Place', properties={}), target=Node(id='Germany', type='Place', properties={}), type='LOCATED_IN', properties={}), Relationship(source=Node(id='Münster', type='Place', properties={}), target=Node(id='Westphalia', type='Place', properties={}), type='CULTURAL_CENTRE_OF', properties={}), Relationship(source=Node(id='Münster', type='Place', properties={}), target=Node(id='Anabaptist Rebellion', type='Event', properties={}), type='LOCATION_OF', properties={}), Relationship(source=Node(id='Anabaptist Rebellion', type='Event', properties={}), target=Node(id='Protestant Reformation', type='Event', properties={}), type='PART_OF', properties={}), Relationship(source=Node(id='Münster', type='Place', properties={}), target=Node(id='Treaty Of Westphalia', type='Event', properties={}), type='LOCATION_OF', properties={}), Relationship(source=Node(id='Treaty Of Westphalia', type='Event', properties={}), target=Node(id=\"Thirty Years' War\", type='Event', properties={}), type='ENDED', properties={}), Relationship(source=Node(id='Münster', type='Place', properties={}), target=Node(id='Euregio', type='Place', properties={}), type='PART_OF', properties={}), Relationship(source=Node(id='Institute For Geoinformatics', type='Organization', properties={}), target=Node(id='University Of Münster', type='Organization', properties={}), type='PART_OF', properties={}), Relationship(source=Node(id='Institute For Geoinformatics', type='Organization', properties={}), target=Node(id='Münster', type='Place', properties={}), type='LOCATED_IN', properties={}), Relationship(source=Node(id='Münster University Of Applied Sciences', type='Organization', properties={}), target=Node(id='Münster', type='Place', properties={}), type='LOCATED_IN', properties={}), Relationship(source=Node(id='Reedu Gmbh', type='Organization', properties={}), target=Node(id='Münster', type='Place', properties={}), type='LOCATED_IN', properties={}), Relationship(source=Node(id='Con Terra', type='Organization', properties={}), target=Node(id='Münster', type='Place', properties={}), type='LOCATED_IN', properties={}), Relationship(source=Node(id='Deutsche Bank', type='Organization', properties={}), target=Node(id='Münster', type='Place', properties={}), type='LOCATED_IN', properties={}), Relationship(source=Node(id='Ikea', type='Organization', properties={}), target=Node(id='Münster', type='Place', properties={}), type='LOCATED_IN', properties={}), Relationship(source=Node(id='Lidl', type='Organization', properties={}), target=Node(id='Münster', type='Place', properties={}), type='LOCATED_IN', properties={}), Relationship(source=Node(id='Rewe', type='Organization', properties={}), target=Node(id='Münster', type='Place', properties={}), type='LOCATED_IN', properties={}), Relationship(source=Node(id='Aldi', type='Organization', properties={}), target=Node(id='Münster', type='Place', properties={}), type='LOCATED_IN', properties={}), Relationship(source=Node(id='Basf Coatings', type='Organization', properties={}), target=Node(id='Münster', type='Place', properties={}), type='LOCATED_IN', properties={})]\n"
          ]
        }
      ]
    },
    {
      "cell_type": "code",
      "source": [
        "graph.add_graph_documents(graph_documents)"
      ],
      "metadata": {
        "id": "8dHnhXk84n9h"
      },
      "execution_count": 59,
      "outputs": []
    },
    {
      "cell_type": "markdown",
      "source": [
        "# Part 3: Graph QA using GraphCypherQAChain"
      ],
      "metadata": {
        "id": "J-MZn6LV9qtB"
      }
    },
    {
      "cell_type": "code",
      "source": [
        "!pip install -q langchain langchain-neo4j langchain-openai neo4j"
      ],
      "metadata": {
        "id": "kaQFfQ539seN"
      },
      "execution_count": 30,
      "outputs": []
    },
    {
      "cell_type": "code",
      "source": [
        "from langchain_neo4j import Neo4jGraph\n",
        "\n",
        "# alternative way of initializing the database\n",
        "os.environ[\"NEO4J_URI\"] = \"yourUrl\"\n",
        "os.environ[\"NEO4J_USERNAME\"] = \"neo4j\"\n",
        "os.environ[\"NEO4J_PASSWORD\"] = \"yourPassword\"\n",
        "\n",
        "graph = Neo4jGraph()"
      ],
      "metadata": {
        "id": "GolFRbIT98CE"
      },
      "execution_count": 70,
      "outputs": []
    },
    {
      "cell_type": "code",
      "source": [
        "import os\n",
        "import getpass\n",
        "\n",
        "if \"OPENAI_API_KEY\" not in os.environ:\n",
        "    os.environ[\"OPENAI_API_KEY\"] = getpass.getpass(\"Enter your OpenAI API key: \")"
      ],
      "metadata": {
        "id": "oO3-1C_9iV47"
      },
      "execution_count": 61,
      "outputs": []
    },
    {
      "cell_type": "code",
      "source": [
        "from langchain_neo4j import GraphCypherQAChain, Neo4jGraph\n",
        "from langchain_openai import ChatOpenAI\n",
        "import os\n",
        "\n",
        "chain = GraphCypherQAChain.from_llm(\n",
        "    graph=graph,\n",
        "    cypher_llm=ChatOpenAI(temperature=0, model=\"gpt-4o\"), # gpt-4o-mini\tgpt-3.5-turbo\n",
        "    qa_llm=ChatOpenAI(temperature=0, model=\"gpt-4o\"), # gpt-3.5-turbo-16k\n",
        "    verbose=True,\n",
        "    allow_dangerous_requests=True\n",
        ")"
      ],
      "metadata": {
        "id": "ORmHBZE89_9z"
      },
      "execution_count": 72,
      "outputs": []
    },
    {
      "cell_type": "code",
      "source": [
        "question_1 = \"What is the population of Hessen?\"\n",
        "question_2 = \"What is the geometry of Rheinland-Pfalz?\"\n",
        "question_3 = \"What are the areas of Hessen and Niedersachen. Is the area of Hessen bigger than the area of Niedersachsen\"\n",
        "question_4 = \"Is Düsseldorf the state capital of Nordrhein-Westfalen\"\n",
        "\n",
        "chain.invoke(question_4)"
      ],
      "metadata": {
        "colab": {
          "base_uri": "https://localhost:8080/"
        },
        "id": "1MlmganG9yec",
        "outputId": "fc1b5c10-c712-41f6-9877-fd35e77120dc"
      },
      "execution_count": 75,
      "outputs": [
        {
          "output_type": "stream",
          "name": "stdout",
          "text": [
            "\n",
            "\n",
            "\u001b[1m> Entering new GraphCypherQAChain chain...\u001b[0m\n",
            "Generated Cypher:\n",
            "\u001b[32;1m\u001b[1;3mcypher\n",
            "MATCH (s:State {name: 'Nordrhein-Westfalen', state_capital: 'Düsseldorf'})\n",
            "RETURN s IS NOT NULL AS isCapital\n",
            "\u001b[0m\n",
            "Full Context:\n",
            "\u001b[32;1m\u001b[1;3m[{'isCapital': True}]\u001b[0m\n",
            "\n",
            "\u001b[1m> Finished chain.\u001b[0m\n"
          ]
        },
        {
          "output_type": "execute_result",
          "data": {
            "text/plain": [
              "{'query': 'Is Düsseldorf the state capital of Nordrhein-Westfalen',\n",
              " 'result': 'Yes, Düsseldorf is the state capital of Nordrhein-Westfalen.'}"
            ]
          },
          "metadata": {},
          "execution_count": 75
        }
      ]
    },
    {
      "cell_type": "markdown",
      "source": [
        "# Part 4: GraphQA using Vector Indices"
      ],
      "metadata": {
        "id": "fva46S3Zb8Rs"
      }
    },
    {
      "cell_type": "markdown",
      "source": [
        "## Indexing"
      ],
      "metadata": {
        "id": "rivtxf2dkuLF"
      }
    },
    {
      "cell_type": "code",
      "source": [
        "#!pip install langchain openai wikipedia tiktoken neo4j langchain_openai langchain_community --quiet\n",
        "\n",
        "!pip install -q langchain_openai langchain-neo4j langchain-openai langchain_community"
      ],
      "metadata": {
        "colab": {
          "base_uri": "https://localhost:8080/"
        },
        "id": "fWZcQcLRlMPb",
        "outputId": "e7c986ea-38a8-49f1-e603-f9e09dfbdc30"
      },
      "execution_count": 7,
      "outputs": [
        {
          "output_type": "stream",
          "name": "stdout",
          "text": [
            "\u001b[?25l   \u001b[90m━━━━━━━━━━━━━━━━━━━━━━━━━━━━━━━━━━━━━━━━\u001b[0m \u001b[32m0.0/449.8 kB\u001b[0m \u001b[31m?\u001b[0m eta \u001b[36m-:--:--\u001b[0m\r\u001b[2K   \u001b[91m━━━━━━━━\u001b[0m\u001b[90m╺\u001b[0m\u001b[90m━━━━━━━━━━━━━━━━━━━━━━━━━━━━━━━\u001b[0m \u001b[32m92.2/449.8 kB\u001b[0m \u001b[31m2.9 MB/s\u001b[0m eta \u001b[36m0:00:01\u001b[0m\r\u001b[2K   \u001b[91m━━━━━━━━━━━━━━━━━━━━━━━━━━━━━━━━━━\u001b[0m\u001b[91m╸\u001b[0m\u001b[90m━━━━━\u001b[0m \u001b[32m389.1/449.8 kB\u001b[0m \u001b[31m5.5 MB/s\u001b[0m eta \u001b[36m0:00:01\u001b[0m\r\u001b[2K   \u001b[90m━━━━━━━━━━━━━━━━━━━━━━━━━━━━━━━━━━━━━━━━\u001b[0m \u001b[32m449.8/449.8 kB\u001b[0m \u001b[31m5.2 MB/s\u001b[0m eta \u001b[36m0:00:00\u001b[0m\n",
            "\u001b[?25h"
          ]
        }
      ]
    },
    {
      "cell_type": "code",
      "source": [
        "# https://neo4j.com/developer-blog/knowledge-graph-rag-application/\n",
        "# https://github.com/tomasonjo/blogs/blob/master/llm/devops_rag.ipynb\n",
        "from langchain_neo4j import Neo4jGraph\n",
        "\n",
        "url = \"yourUrl\"\n",
        "username = \"neo4j\"\n",
        "password = \"yourPassword\""
      ],
      "metadata": {
        "id": "sb4QYjYElRAq"
      },
      "execution_count": 76,
      "outputs": []
    },
    {
      "cell_type": "code",
      "source": [
        "import os\n",
        "import getpass\n",
        "\n",
        "if \"OPENAI_API_KEY\" not in os.environ:\n",
        "    os.environ[\"OPENAI_API_KEY\"] = getpass.getpass(\"Enter your OpenAI API key: \")"
      ],
      "metadata": {
        "id": "afOIDKPImj_V"
      },
      "execution_count": 77,
      "outputs": []
    },
    {
      "cell_type": "code",
      "source": [
        "# create the index\n",
        "\n",
        "import os\n",
        "from langchain.vectorstores.neo4j_vector import Neo4jVector\n",
        "from langchain_openai import OpenAIEmbeddings\n",
        "\n",
        "vector_index = Neo4jVector.from_existing_graph(\n",
        "    OpenAIEmbeddings(),\n",
        "    url=url,\n",
        "    username=username,\n",
        "    password=password,\n",
        "    index_name='index_for_state',\n",
        "    node_label=\"State\",\n",
        "    text_node_properties= ['name', 'population', 'state_capital', 'area'], #['name', 'description', 'status'], #['name', 'state_capital', 'url'],\n",
        "    embedding_node_property='embedding',\n",
        ")"
      ],
      "metadata": {
        "id": "jbWa90lejoVi"
      },
      "execution_count": 78,
      "outputs": []
    },
    {
      "cell_type": "code",
      "source": [
        "# see the index just created\n",
        "vector_index.query(\n",
        "    \"\"\"SHOW INDEXES\n",
        "       YIELD name, type, labelsOrTypes, properties, options\n",
        "       WHERE type = 'VECTOR'\n",
        "    \"\"\"\n",
        ")"
      ],
      "metadata": {
        "colab": {
          "base_uri": "https://localhost:8080/"
        },
        "id": "r5WQc6WAm2-M",
        "outputId": "29a1db35-e205-462b-c5a1-d6cb1a901e1f"
      },
      "execution_count": 79,
      "outputs": [
        {
          "output_type": "execute_result",
          "data": {
            "text/plain": [
              "[{'name': 'index_for_state',\n",
              "  'type': 'VECTOR',\n",
              "  'labelsOrTypes': ['State'],\n",
              "  'properties': ['embedding'],\n",
              "  'options': {'indexProvider': 'vector-3.0',\n",
              "   'indexConfig': {'vector.hnsw.m': 16,\n",
              "    'vector.hnsw.ef_construction': 100,\n",
              "    'vector.dimensions': 1536,\n",
              "    'vector.similarity_function': 'COSINE',\n",
              "    'vector.quantization.enabled': True}}}]"
            ]
          },
          "metadata": {},
          "execution_count": 79
        }
      ]
    },
    {
      "cell_type": "markdown",
      "source": [
        "## Retrieval"
      ],
      "metadata": {
        "id": "QTBffq0fkvzR"
      }
    },
    {
      "cell_type": "code",
      "source": [
        "question1 = \"How many states in the database?\"\n",
        "question2 = \"How many geometries in the the database?\"\n",
        "question3 = \"What is the population of Hessen?\"\n",
        "question4 = \"What is the area of Niedersachsen?\"\n",
        "question5 = \"What is the capital of Rheinland-Pfalz?\"\n",
        "question6 = \"What is the geometry of Nordrhein-Westfalen?\"\n",
        "question7 = \"What are the geometries of Hessen and Niedersachsen?\"\n",
        "question8 = \"What is the url of the geometry of Hessen?\""
      ],
      "metadata": {
        "id": "H-SFqvF3lw8B"
      },
      "execution_count": 80,
      "outputs": []
    },
    {
      "cell_type": "code",
      "source": [
        "response = vector_index.similarity_search(question5)\n",
        "response"
      ],
      "metadata": {
        "colab": {
          "base_uri": "https://localhost:8080/"
        },
        "id": "xUt4v84Tl0Ub",
        "outputId": "c5c320ee-94f0-4612-84a8-667724ff6de7"
      },
      "execution_count": 91,
      "outputs": [
        {
          "output_type": "execute_result",
          "data": {
            "text/plain": [
              "[Document(metadata={}, page_content='\\nname: Rheinland-Pfalz\\npopulation: 4159150\\nstate_capital: Mainz\\narea: 19854.21'),\n",
              " Document(metadata={}, page_content='\\nname: Nordrhein-Westfalen\\npopulation: 18139116\\nstate_capital: Düsseldorf\\narea: 34110.26'),\n",
              " Document(metadata={}, page_content='\\nname: Hessen\\npopulation: 6391360\\nstate_capital: Wiesbaden\\narea: 21114.94'),\n",
              " Document(metadata={}, page_content='\\nname: Niedersachsen\\npopulation: 8140242\\nstate_capital: Hannover\\narea: 47709.82')]"
            ]
          },
          "metadata": {},
          "execution_count": 91
        }
      ]
    },
    {
      "cell_type": "code",
      "source": [
        "response_with_score = vector_index.similarity_search_with_score(question1)\n",
        "response_with_score"
      ],
      "metadata": {
        "colab": {
          "base_uri": "https://localhost:8080/"
        },
        "id": "sI3bBGOSl39j",
        "outputId": "df926ed9-1c8a-4cfc-b380-b43b4978fc48"
      },
      "execution_count": 86,
      "outputs": [
        {
          "output_type": "execute_result",
          "data": {
            "text/plain": [
              "[(Document(metadata={}, page_content='\\nname: Hessen\\npopulation: 6391360\\nstate_capital: Wiesbaden\\narea: 21114.94'),\n",
              "  0.8828887939453125),\n",
              " (Document(metadata={}, page_content='\\nname: Niedersachsen\\npopulation: 8140242\\nstate_capital: Hannover\\narea: 47709.82'),\n",
              "  0.8789215087890625),\n",
              " (Document(metadata={}, page_content='\\nname: Nordrhein-Westfalen\\npopulation: 18139116\\nstate_capital: Düsseldorf\\narea: 34110.26'),\n",
              "  0.8784637451171875),\n",
              " (Document(metadata={}, page_content='\\nname: Rheinland-Pfalz\\npopulation: 4159150\\nstate_capital: Mainz\\narea: 19854.21'),\n",
              "  0.875335693359375)]"
            ]
          },
          "metadata": {},
          "execution_count": 86
        }
      ]
    },
    {
      "cell_type": "markdown",
      "source": [
        "## Generation: Example 1"
      ],
      "metadata": {
        "id": "BV4UuEw5kxaV"
      }
    },
    {
      "cell_type": "code",
      "source": [
        "# using documents as context\n",
        "from langchain_openai import ChatOpenAI\n",
        "from langchain_core.prompts import ChatPromptTemplate\n",
        "\n",
        "template = \"\"\"Answer the question based only on the following context:\n",
        "{context}\n",
        "\n",
        "Question: {question}\n",
        "\"\"\"\n",
        "\n",
        "prompt = ChatPromptTemplate.from_template(template)\n",
        "prompt"
      ],
      "metadata": {
        "colab": {
          "base_uri": "https://localhost:8080/"
        },
        "id": "numPBbYwnWfr",
        "outputId": "33405665-1f61-475b-f84c-ee85fdf08dde"
      },
      "execution_count": 87,
      "outputs": [
        {
          "output_type": "execute_result",
          "data": {
            "text/plain": [
              "ChatPromptTemplate(input_variables=['context', 'question'], input_types={}, partial_variables={}, messages=[HumanMessagePromptTemplate(prompt=PromptTemplate(input_variables=['context', 'question'], input_types={}, partial_variables={}, template='Answer the question based only on the following context:\\n{context}\\n\\nQuestion: {question}\\n'), additional_kwargs={})])"
            ]
          },
          "metadata": {},
          "execution_count": 87
        }
      ]
    },
    {
      "cell_type": "code",
      "source": [
        "llm = ChatOpenAI(model_name=\"gpt-3.5-turbo\", temperature=0)"
      ],
      "metadata": {
        "id": "75euLZagnfn5"
      },
      "execution_count": 88,
      "outputs": []
    },
    {
      "cell_type": "code",
      "source": [
        "chain = prompt | llm"
      ],
      "metadata": {
        "id": "PPOxD3ICnlFr"
      },
      "execution_count": 89,
      "outputs": []
    },
    {
      "cell_type": "code",
      "source": [
        "docs = response\n",
        "\n",
        "print(response)\n",
        "chain.invoke({\"context\": docs, \"question\": question3}).content"
      ],
      "metadata": {
        "colab": {
          "base_uri": "https://localhost:8080/",
          "height": 73
        },
        "id": "epdnd0jinoEP",
        "outputId": "e62c83b6-76c9-417a-a938-d822bc148a9e"
      },
      "execution_count": 96,
      "outputs": [
        {
          "output_type": "stream",
          "name": "stdout",
          "text": [
            "[Document(metadata={}, page_content='\\nname: Rheinland-Pfalz\\npopulation: 4159150\\nstate_capital: Mainz\\narea: 19854.21'), Document(metadata={}, page_content='\\nname: Nordrhein-Westfalen\\npopulation: 18139116\\nstate_capital: Düsseldorf\\narea: 34110.26'), Document(metadata={}, page_content='\\nname: Hessen\\npopulation: 6391360\\nstate_capital: Wiesbaden\\narea: 21114.94'), Document(metadata={}, page_content='\\nname: Niedersachsen\\npopulation: 8140242\\nstate_capital: Hannover\\narea: 47709.82')]\n"
          ]
        },
        {
          "output_type": "execute_result",
          "data": {
            "text/plain": [
              "'The population of Hessen is 6,391,360.'"
            ],
            "application/vnd.google.colaboratory.intrinsic+json": {
              "type": "string"
            }
          },
          "metadata": {},
          "execution_count": 96
        }
      ]
    },
    {
      "cell_type": "markdown",
      "source": [
        "## Generation: Example 2"
      ],
      "metadata": {
        "id": "CPhwJ-NsocNt"
      }
    },
    {
      "cell_type": "code",
      "source": [
        "# Using a retriever as context\n",
        "from langchain_openai import ChatOpenAI\n",
        "from langchain_core.prompts import ChatPromptTemplate\n",
        "from langchain_core.output_parsers import StrOutputParser\n",
        "from langchain_core.runnables import RunnablePassthrough\n",
        "\n",
        "template = \"\"\"Answer the question based only on the following context:\n",
        "{context}\n",
        "\n",
        "Question: {question}\n",
        "\"\"\"\n",
        "\n",
        "prompt = ChatPromptTemplate.from_template(template)\n",
        "llm = ChatOpenAI(model_name=\"gpt-3.5-turbo\", temperature=0)\n",
        "\n",
        "retriever = vector_index.as_retriever() # search_kwargs={\"k\": 1}\n",
        "\n",
        "graph_chain = {\"context\": retriever, \"question\": RunnablePassthrough()} | prompt | llm | StrOutputParser()\n",
        "\n",
        "graph_chain.invoke(question6)"
      ],
      "metadata": {
        "colab": {
          "base_uri": "https://localhost:8080/",
          "height": 36
        },
        "id": "wMYQYPtOoakL",
        "outputId": "be057167-755c-4ba1-e9db-c8ddba9027c6"
      },
      "execution_count": 97,
      "outputs": [
        {
          "output_type": "execute_result",
          "data": {
            "text/plain": [
              "'The geometry of Nordrhein-Westfalen is 34110.26 square kilometers.'"
            ],
            "application/vnd.google.colaboratory.intrinsic+json": {
              "type": "string"
            }
          },
          "metadata": {},
          "execution_count": 97
        }
      ]
    },
    {
      "cell_type": "markdown",
      "source": [
        "## Generation: Example 3"
      ],
      "metadata": {
        "id": "tjYmkHlxtC9V"
      }
    },
    {
      "cell_type": "code",
      "source": [
        "# Using a custom retriever as a context and post-processing of the answer\n",
        "# https://python.langchain.com/docs/how_to/custom_retriever/\n",
        "from typing import List\n",
        "from langchain_core.callbacks import CallbackManagerForRetrieverRun\n",
        "from langchain_core.documents import Document\n",
        "from langchain_core.retrievers import BaseRetriever\n",
        "\n",
        "class CustomRetriever(BaseRetriever):\n",
        "    \"\"\" Custom retriever to return the scores of the documents as well.\n",
        "        Then the scores are passed into an custom ranking function to include the spatial similarity\n",
        "        between the query and the document.\n",
        "    \"\"\"\n",
        "\n",
        "    vector_index: Neo4jVector\n",
        "\n",
        "    def _get_relevant_documents(\n",
        "        self, query: str, *, run_manager: CallbackManagerForRetrieverRun\n",
        "    ) -> List[Document]:\n",
        "        \"\"\"Sync implementations for retriever.\"\"\"\n",
        "\n",
        "        docs, scores = zip(*self.vector_index.similarity_search_with_score(query))\n",
        "        for doc, score in zip(docs, scores):\n",
        "             print(\"***\", doc)\n",
        "             #new_score = updated_score(score, query, doc)\n",
        "             doc.page_content = doc.page_content\n",
        "             doc.metadata[\"score\"] = score\n",
        "        return docs\n",
        "\n",
        "def update_scores(docs):\n",
        "\n",
        "    for doc in docs:\n",
        "       new_score = doc.metadata[\"score\"] * 10\n",
        "       doc.page_content = doc.page_content+ \"\\nScore: \" + str(new_score)\n",
        "       doc.metadata[\"score\"] = new_score\n",
        "    return docs"
      ],
      "metadata": {
        "id": "9tdhFRMxvgMM"
      },
      "execution_count": 98,
      "outputs": []
    },
    {
      "cell_type": "code",
      "source": [
        "from langchain_openai import ChatOpenAI\n",
        "from langchain_core.prompts import ChatPromptTemplate\n",
        "from langchain_core.output_parsers import StrOutputParser\n",
        "from langchain_core.runnables import RunnablePassthrough\n",
        "\n",
        "template = \"\"\"Answer the question based only on the following context:\n",
        "{context}\n",
        "\n",
        "Question: {question}\n",
        "\"\"\"\n",
        "\n",
        "prompt = ChatPromptTemplate.from_template(template)\n",
        "llm = ChatOpenAI(model_name=\"gpt-3.5-turbo\", temperature=0)\n",
        "\n",
        "retriever_r = CustomRetriever(vector_index=vector_index)\n",
        "\n",
        "graph_chain = {\"context\": retriever_r | update_scores, \"question\": RunnablePassthrough()} | prompt | llm | StrOutputParser()\n",
        "\n",
        "print(question5)\n",
        "graph_chain.invoke(question5)"
      ],
      "metadata": {
        "colab": {
          "base_uri": "https://localhost:8080/",
          "height": 400
        },
        "id": "fQqodttVtH5-",
        "outputId": "2e8049b0-e78f-44d0-c56b-0254895edcf1"
      },
      "execution_count": 101,
      "outputs": [
        {
          "output_type": "stream",
          "name": "stdout",
          "text": [
            "What is the capital of Rheinland-Pfalz?\n",
            "*** page_content='\n",
            "name: Rheinland-Pfalz\n",
            "population: 4159150\n",
            "state_capital: Mainz\n",
            "area: 19854.21'\n",
            "*** page_content='\n",
            "name: Nordrhein-Westfalen\n",
            "population: 18139116\n",
            "state_capital: Düsseldorf\n",
            "area: 34110.26'\n",
            "*** page_content='\n",
            "name: Hessen\n",
            "population: 6391360\n",
            "state_capital: Wiesbaden\n",
            "area: 21114.94'\n",
            "*** page_content='\n",
            "name: Niedersachsen\n",
            "population: 8140242\n",
            "state_capital: Hannover\n",
            "area: 47709.82'\n"
          ]
        },
        {
          "output_type": "execute_result",
          "data": {
            "text/plain": [
              "'The capital of Rheinland-Pfalz is Mainz.'"
            ],
            "application/vnd.google.colaboratory.intrinsic+json": {
              "type": "string"
            }
          },
          "metadata": {},
          "execution_count": 101
        }
      ]
    },
    {
      "cell_type": "markdown",
      "source": [
        "# Cypher Queries"
      ],
      "metadata": {
        "id": "yQVWvsmwkq6f"
      }
    },
    {
      "cell_type": "markdown",
      "source": [
        "We will not dive deep into the cypher syntax during the course. The following queries should be enough for the interaction with the neo4j database. You can also check the [documentation](https://neo4j.com/docs/cypher-cheat-sheet/5/aura-dbe/auradb-free), if you happen to need more."
      ],
      "metadata": {
        "id": "yvNXJS_B04j_"
      }
    },
    {
      "cell_type": "code",
      "source": [
        "# delete every node and edge\n",
        "MATCH(n)\n",
        "DETACH DELETE (n)\n",
        "\n",
        "# create nodes and edges\n",
        "follow the structure shown at https://github.com/aurioldegbelo/sis2025/blob/main/vector_data/data.cypher\n",
        "\n",
        "# visualize the model of the graph database\n",
        "CALL apoc.meta.graph()"
      ],
      "metadata": {
        "id": "POLTOnQ2j9Xt"
      },
      "execution_count": null,
      "outputs": []
    },
    {
      "cell_type": "markdown",
      "source": [
        "# Project work"
      ],
      "metadata": {
        "id": "rzTwwHpcyOwi"
      }
    },
    {
      "cell_type": "markdown",
      "source": [
        "* Exercice 01: clarify what your search target is\n",
        "\n",
        "* Exercice 02: elaborate on your data model (what are entities and relationships)\n",
        "\n",
        "* Exercice 03: create a neo4j account and a database instance\n",
        "\n",
        "* Exercice 04: create an example of cypher query (CREATE) for your data (just a few instances), upload it to the database to see if it works\n",
        "\n",
        "* Exercice 05: write a script to generate a CREATE query (it converts from your original format [csv, tsv, json, ...]) to a cypher template\n"
      ],
      "metadata": {
        "id": "63kwd8YDyuDb"
      }
    }
  ]
}